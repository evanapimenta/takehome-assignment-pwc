{
 "cells": [
  {
   "cell_type": "markdown",
   "id": "0454e49f-d51d-40e0-bd9c-ab064a4ffde1",
   "metadata": {},
   "source": [
    "# Formatação de Endereços"
   ]
  },
  {
   "cell_type": "markdown",
   "id": "a8e79d32-b156-4640-84ed-89c2752a6329",
   "metadata": {},
   "source": [
    "## Descrição"
   ]
  },
  {
   "cell_type": "markdown",
   "id": "74df8fab-6f75-4d38-8ca7-9bbd72e8d399",
   "metadata": {},
   "source": [
    "Um provedor de endereços retorna endereços apenas com ruas concatenadas, nomes e números em uma única string. Nosso próprio sistema, por outro lado, tem campos específicos para armazenar o nome da rua e o número da rua.\n",
    "\n",
    "Portanto, se faz necessário escrever um código simples que processe a entrada e retorne\n",
    "esses campos na saída.\n",
    "\n",
    "**Entrada:** string de endereço com os dados concatenados.\n",
    "\n",
    "**Saída:** string da rua e string do número da rua."
   ]
  },
  {
   "cell_type": "markdown",
   "id": "0f9e768e-124a-4de9-9132-74502480ba82",
   "metadata": {},
   "source": [
    "## Casos"
   ]
  },
  {
   "cell_type": "markdown",
   "id": "7761fd6c-08b8-40cd-a526-658da2330df4",
   "metadata": {},
   "source": [
    "1. Casos Simples"
   ]
  },
  {
   "cell_type": "markdown",
   "id": "d736f75c-207e-4f65-9cf7-d3d8113e4b57",
   "metadata": {},
   "source": [
    "<code>“Miritiba 339” -> {“Miritiba”, “339”}\n",
    "“Babaçu 500” -> {“Babaçu”, “500”}\n",
    "\"Cambuí 804B” -> {“Cambuí”, “123B”}</code>"
   ]
  },
  {
   "cell_type": "code",
   "execution_count": 1,
   "id": "84634289-7891-476c-9b6d-0da6fc70d438",
   "metadata": {},
   "outputs": [],
   "source": [
    "def format_simples_address(address: str) -> dict:\n",
    "    split_address = address.split()\n",
    "    return {\n",
    "        split_address[0]: split_address[1]\n",
    "    }"
   ]
  },
  {
   "cell_type": "code",
   "execution_count": 2,
   "id": "f3fd2011-41f6-4aeb-9d0c-4dd2572245b5",
   "metadata": {},
   "outputs": [
    {
     "name": "stdout",
     "output_type": "stream",
     "text": [
      "Simple test\n",
      "{'Miritiba': '339'}\n",
      "{'Babaçu': '500'}\n",
      "{'Cambuí': '804B'}\n"
     ]
    }
   ],
   "source": [
    "print(\"Simple test\")\n",
    "print(format_simples_address(\"Miritiba 339\"))  # -> {\"Miritiba\": \"339\"}\n",
    "print(format_simples_address(\"Babaçu 500\"))  # -> {\"Babaçu\": \"500\"}\n",
    "print(format_simples_address(\"Cambuí 804B\"))  # -> {\"Cambuí\": \"804B\"}"
   ]
  },
  {
   "cell_type": "markdown",
   "id": "70c45548-09cc-4d2d-a7e8-c42c6c8f1182",
   "metadata": {},
   "source": [
    "2. Casos Complexos (com Whitespace) "
   ]
  },
  {
   "cell_type": "markdown",
   "id": "166d89f5-7328-489b-b71f-fd72b23a0000",
   "metadata": {},
   "source": [
    "<code>\"Rio Branco 23\" -> {\"Rio Branco\": \"23\"}\n",
    "\"Quirino dos Santos 23b\" -> {\"Quirino dos Santos\": \"23b\"}</code>"
   ]
  },
  {
   "cell_type": "code",
   "execution_count": 5,
   "id": "2c117ebd-e861-4140-833c-f7246bbd9d7d",
   "metadata": {},
   "outputs": [],
   "source": [
    "def format_complex_address(address: str) -> dict:\n",
    "    split_address = address.split()\n",
    "    return {\n",
    "        \" \".join(split_address[:-1])\n",
    "        .replace(\",\", \"\"): split_address[-1]\n",
    "        .replace(\",\", \"\")\n",
    "    }"
   ]
  },
  {
   "cell_type": "code",
   "execution_count": 6,
   "id": "12eeb012-1599-4f9f-8bd8-65aafe5a7e9c",
   "metadata": {},
   "outputs": [
    {
     "name": "stdout",
     "output_type": "stream",
     "text": [
      "Address with whitespace test (complex test)\n",
      "{'Rio Branco': '23'}\n",
      "{'Quirino dos Santos': '23b'}\n"
     ]
    }
   ],
   "source": [
    "print(\"Address with whitespace test (complex test)\")\n",
    "print(format_complex_address(\"Rio Branco 23\"))  # -> {\"Rio Branco\": \"23\"}\n",
    "print(format_complex_address(\"Quirino dos Santos 23b\"))  # -> {\"Quirino dos Santos\": \"23b\"}"
   ]
  },
  {
   "cell_type": "markdown",
   "id": "f9de82e7",
   "metadata": {},
   "source": [
    "3. Endereços Estrangeiros"
   ]
  },
  {
   "cell_type": "markdown",
   "id": "a87355c7-de9e-4244-b533-4908854217e5",
   "metadata": {},
   "source": [
    "<code>\"4, Rue de la Republique\" -> {\"Rue de la République\", \"4\"}\n",
    "\"Quirino dos Santos 23b\" -> {\"Quirino dos Santos\": \"23b\"}</code>"
   ]
  },
  {
   "cell_type": "code",
   "execution_count": 1,
   "id": "22a3bedb-0514-419a-b733-4d34642c43cc",
   "metadata": {},
   "outputs": [],
   "source": [
    "def format_foreign_address(address: str) -> dict:\n",
    "    split_address = address.split()\n",
    "\n",
    "    if \"No\" in split_address[-2]:\n",
    "        return {\n",
    "            \" \".join(split_address[:-2]) \n",
    "            .replace(\",\", \"\"): \" \".join(split_address[-2:])\n",
    "            .replace(\",\", \"\")\n",
    "        }\n",
    "\n",
    "    elif not split_address[-1].isdigit():\n",
    "        return {\n",
    "        \" \".join(split_address[1:])\n",
    "        .replace(\",\", \"\"): split_address[0]\n",
    "        .replace(\",\", \"\")\n",
    "    }\n",
    "    else:\n",
    "        return {\n",
    "            \" \".join(split_address[:-1])\n",
    "            .replace(\",\", \"\"): split_address[-1]\n",
    "            .replace(\",\", \"\")\n",
    "        }"
   ]
  },
  {
   "cell_type": "code",
   "execution_count": 2,
   "id": "bd8a8f11-8ce5-4700-bc78-b5b14e097746",
   "metadata": {},
   "outputs": [
    {
     "name": "stdout",
     "output_type": "stream",
     "text": [
      "Foreign Address test\n",
      "{'Rue de la Republique': '4'}\n",
      "{'Broadway Av': '100'}\n",
      "{'Calle Sagasta': '26'}\n",
      "{'Calle 44': 'No 1991'}\n"
     ]
    }
   ],
   "source": [
    "print(\"Foreign Address test\")\n",
    "print(format_foreign_address(\"4, Rue de la Republique\"))  # -> {\"Rue de la Republique\": \"4\"}\n",
    "print(format_foreign_address(\"100 Broadway Av\"))  # -> {\"Broadway Av\": \"100\"}\n",
    "print(format_foreign_address(\"Calle Sagasta, 26\"))  # -> {\"Calle Sagasta\": \"26\"}\n",
    "print(format_foreign_address(\"Calle 44 No 1991\"))  # -> {\"Calle 44\": \"No 1991\"}"
   ]
  },
  {
   "cell_type": "code",
   "execution_count": 2,
   "id": "539880bb",
   "metadata": {},
   "outputs": [],
   "source": [
    "def format_address(address: str) -> dict:\n",
    "\n",
    "    split_address = address.split()\n",
    "\n",
    "    if \"No\" in split_address[-2]:\n",
    "        return {\n",
    "        \" \".join(split_address[:-2]) \n",
    "        .replace(\",\", \"\"): \" \".join(split_address[-2:])\n",
    "        .replace(\",\", \"\")\n",
    "        }\n",
    "\n",
    "    elif split_address[-1][0].isdigit():\n",
    "        return {\n",
    "        \" \".join(split_address[:-1])\n",
    "        .replace(\",\", \"\"): split_address[-1]\n",
    "        .replace(\",\", \"\")\n",
    "        }\n",
    "        \n",
    "    elif not split_address[-1].isdigit():\n",
    "        return {\n",
    "        \" \".join(split_address[1:])\n",
    "        .replace(\",\", \"\"): split_address[0]\n",
    "        .replace(\",\", \"\")\n",
    "    }\n",
    "\n",
    "    else:\n",
    "        return {\n",
    "        \" \".join(split_address[:-1])\n",
    "        .replace(\",\", \"\"): split_address[-1]\n",
    "        .replace(\",\", \"\")\n",
    "        }"
   ]
  },
  {
   "cell_type": "code",
   "execution_count": 3,
   "id": "8e675df7",
   "metadata": {},
   "outputs": [
    {
     "name": "stdout",
     "output_type": "stream",
     "text": [
      "Simple test\n",
      "{'Miritiba': '339'}\n",
      "{'Babaçu': '500'}\n",
      "{'Cambuí': '804B'}\n",
      "Address with whitespace test (complex test)\n",
      "{'Rio Branco': '23'}\n",
      "{'Quirino dos Santos': '23b'}\n",
      "Foreign Address test\n",
      "{'Rue de la Republique': '4'}\n",
      "{'Broadway Av': '100'}\n",
      "{'Calle Sagasta': '26'}\n",
      "{'Calle 44': 'No 1991'}\n"
     ]
    }
   ],
   "source": [
    "print(\"Simple test\")\n",
    "print(format_address(\"Miritiba 339\"))  # -> {\"Miritiba\": \"339\"}\n",
    "print(format_address(\"Babaçu 500\"))  # -> {\"Babaçu\": \"500\"}\n",
    "print(format_address(\"Cambuí 804B\"))  # -> {\"Cambuí\": \"804B\"}\n",
    "print(\"Address with whitespace test (complex test)\")\n",
    "print(format_address(\"Rio Branco 23\"))  # -> {\"Rio Branco\": \"23\"}\n",
    "print(format_address(\"Quirino dos Santos 23b\"))  # -> {\"Quirino dos Santos\": \"23b\"}\n",
    "print(\"Foreign Address test\")\n",
    "print(format_address(\"4, Rue de la Republique\"))  # -> {\"Rue de la Republique\": \"4\"}\n",
    "print(format_address(\"100 Broadway Av\"))  # -> {\"Broadway Av\": \"100\"}\n",
    "print(format_address(\"Calle Sagasta, 26\"))  # -> {\"Calle Sagasta\": \"26\"}\n",
    "print(format_address(\"Calle 44 No 1991\"))  # -> {\"Calle 44\": \"No 1991\"}"
   ]
  }
 ],
 "metadata": {
  "kernelspec": {
   "display_name": "Python 3 (ipykernel)",
   "language": "python",
   "name": "python3"
  },
  "language_info": {
   "codemirror_mode": {
    "name": "ipython",
    "version": 3
   },
   "file_extension": ".py",
   "mimetype": "text/x-python",
   "name": "python",
   "nbconvert_exporter": "python",
   "pygments_lexer": "ipython3",
   "version": "3.10.12"
  }
 },
 "nbformat": 4,
 "nbformat_minor": 5
}
